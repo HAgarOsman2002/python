{
 "cells": [
  {
   "cell_type": "code",
   "execution_count": 7,
   "id": "09a02d72",
   "metadata": {},
   "outputs": [
    {
     "name": "stdout",
     "output_type": "stream",
     "text": [
      "Enter the string : Ggoogle\n"
     ]
    },
    {
     "data": {
      "text/plain": [
       "{'G': 1, 'g': 2, 'o': 2, 'l': 1, 'e': 1}"
      ]
     },
     "execution_count": 7,
     "metadata": {},
     "output_type": "execute_result"
    }
   ],
   "source": [
    "s = str(input(\"Enter the string : \"))\n",
    "d = {}\n",
    "\n",
    "for i in s:\n",
    "    # i have chart in s , i = s[index]\n",
    "    if i in d:\n",
    "        # check if i \"the chart\" in the dictionary or not \n",
    "        # if yes add 1 to the value\n",
    "        d[i] += 1\n",
    "    else:\n",
    "        # if not creat element with value = 1\n",
    "        d[i] = 1\n",
    "d"
   ]
  },
  {
   "cell_type": "code",
   "execution_count": 16,
   "id": "9f862e0d",
   "metadata": {},
   "outputs": [
    {
     "name": "stdout",
     "output_type": "stream",
     "text": [
      "Enter the string : nourmohamed\n",
      "noed\n"
     ]
    }
   ],
   "source": [
    "s = str(input(\"Enter the string : \"))\n",
    "def char(s):\n",
    "    if len(s) > 3:\n",
    "        print( s[0:2]+s[-2:(])\n",
    "    else:\n",
    "        print(\" the length of the string must be bigger than 3\")\n",
    "char(s))"
   ]
  },
  {
   "cell_type": "markdown",
   "id": "6122014d",
   "metadata": {},
   "source": [
    "## Object Oriented Programming"
   ]
  },
  {
   "cell_type": "code",
   "execution_count": 33,
   "id": "7a895502",
   "metadata": {},
   "outputs": [],
   "source": [
    "# create class:\n",
    "\n",
    "# instance method \n",
    "class Dog:\n",
    "    counter = 0\n",
    "    def __init__ (self, name, age) :\n",
    "        self.dname = name\n",
    "        self.dage = age\n",
    "        Dog.counter +=1\n",
    "        \n",
    "    def show (self):\n",
    "        print (\"dog name is \", self.dname, \", age is : \",self.dage )\n",
    "\n",
    "# class method:\n",
    "    @classmethod\n",
    "    def num_ofdogs(cls):\n",
    "        print(\"The number of Dogs is :\", cls.counter)\n",
    "        "
   ]
  },
  {
   "cell_type": "code",
   "execution_count": 34,
   "id": "8cb0fd80",
   "metadata": {},
   "outputs": [
    {
     "name": "stdout",
     "output_type": "stream",
     "text": [
      "The number of Dogs is : 3\n"
     ]
    }
   ],
   "source": [
    "d1 = Dog(\"Leo\", 2)\n",
    "d2 = Dog(\"shado\", 3)\n",
    "d3 = Dog(\"bebo\", 1)\n",
    "\n",
    "Dog.num_ofdogs()"
   ]
  },
  {
   "cell_type": "code",
   "execution_count": 27,
   "id": "f296eff3",
   "metadata": {},
   "outputs": [
    {
     "name": "stdout",
     "output_type": "stream",
     "text": [
      "dog name is  Leo , age is :  2\n",
      "dog name is  shado , age is :  3\n"
     ]
    }
   ],
   "source": [
    "d1.show()\n",
    "d2.show()"
   ]
  },
  {
   "cell_type": "code",
   "execution_count": 36,
   "id": "5be7fdde",
   "metadata": {},
   "outputs": [],
   "source": [
    "class student:\n",
    "    counter = 0\n",
    "    def __init__ (self, name, age, st_id, courses_num) :\n",
    "        self.stname = name\n",
    "        self.stage = age\n",
    "        self.stid = st_id\n",
    "        self.numcourses = courses_num\n",
    "        student.counter +=1\n",
    "        \n",
    "    def discribtion (self):\n",
    "        print (\"name : \", self.stname, \n",
    "               \"\\nage is : \",self.stage, \n",
    "               \"\\nID : \", self.stid ,\n",
    "               \"\\nthe number of the courses :\",self.numcourses )\n",
    "    @classmethod\n",
    "    def num_ofst(cls):\n",
    "        print(\"The number of students is :\", cls.counter)"
   ]
  },
  {
   "cell_type": "code",
   "execution_count": 37,
   "id": "d205cd3c",
   "metadata": {},
   "outputs": [
    {
     "name": "stdout",
     "output_type": "stream",
     "text": [
      "name :  Nour \n",
      "age is :  22 \n",
      "ID :  619083 \n",
      "the number of the courses : 10\n"
     ]
    }
   ],
   "source": [
    "st1 = student(\"Nour\", 22 , 619083, 10)\n",
    "st1.discribtion()"
   ]
  },
  {
   "cell_type": "code",
   "execution_count": 40,
   "id": "88b6d394",
   "metadata": {},
   "outputs": [
    {
     "name": "stdout",
     "output_type": "stream",
     "text": [
      "The number of students is : 10\n"
     ]
    }
   ],
   "source": [
    "st2 = student(\"mohamed\", 20 , 506070, 20)\n",
    "st3 = student(\"fawzy\", 20 , 90100, 20)\n",
    "st4 = student(\"ahmed\", 20 , 304030, 0)\n",
    "student.num_ofst()"
   ]
  },
  {
   "cell_type": "code",
   "execution_count": 49,
   "id": "27f4bf0c",
   "metadata": {},
   "outputs": [],
   "source": [
    "class Cars :\n",
    "    def __init__ (self, name, color, speed):\n",
    "        #Encapsulation\n",
    "        #we use __ after the name to cover or secure the data to no one can access\n",
    "        self.__cname = name\n",
    "        self.__ccolor = color\n",
    "        self.__cspeed = speed\n",
    "    def show(self):\n",
    "        print(f\"the car name is: {self.__cname},Color : {self.__ccolor}, and speed is: {self.__cspeed} km\\h\")\n",
    "\n",
    "#static method\n",
    "    @staticmethod\n",
    "    def time (speed, distance):\n",
    "        print (f\"the time for speed {speed} and distance: {distance} is :{distance / speed}\")"
   ]
  },
  {
   "cell_type": "code",
   "execution_count": 50,
   "id": "58aa5c75",
   "metadata": {},
   "outputs": [
    {
     "name": "stdout",
     "output_type": "stream",
     "text": [
      "the car name is: BMW,Color : Red, and speed is: 250 km\\h\n"
     ]
    }
   ],
   "source": [
    "BMW = Cars(\"BMW\", \"Red\", 250)\n",
    "BMW.show()"
   ]
  },
  {
   "cell_type": "code",
   "execution_count": 51,
   "id": "81dae407",
   "metadata": {},
   "outputs": [
    {
     "name": "stdout",
     "output_type": "stream",
     "text": [
      "the time for speed 250 and distance: 1000 is :4.0\n"
     ]
    }
   ],
   "source": [
    "BMW.time(250 , 1000)"
   ]
  },
  {
   "cell_type": "code",
   "execution_count": 52,
   "id": "6f09bb7e",
   "metadata": {},
   "outputs": [],
   "source": [
    "BMW.speed = 10"
   ]
  },
  {
   "cell_type": "code",
   "execution_count": 53,
   "id": "e0155902",
   "metadata": {},
   "outputs": [
    {
     "name": "stdout",
     "output_type": "stream",
     "text": [
      "the car name is: BMW,Color : Red, and speed is: 250 km\\h\n"
     ]
    }
   ],
   "source": [
    "BMW.show()"
   ]
  },
  {
   "cell_type": "code",
   "execution_count": 2,
   "id": "c93b3a92",
   "metadata": {},
   "outputs": [
    {
     "name": "stdout",
     "output_type": "stream",
     "text": [
      "Ranger goes after the ball!\n",
      "MeOw shreds the string!\n",
      "Ranger is eating Dog.  23\n",
      "MeOw is eating Cat Food.  23\n"
     ]
    }
   ],
   "source": [
    "class Animal:\n",
    "    def __init__(self , name , age):\n",
    "        self.name = name\n",
    "        self.age = age\n",
    "    def eat(self , food):\n",
    "        print('%s is eating %s.  %s' %(self.name , food , self.age))\n",
    "\n",
    "# Inheritance:\n",
    "class Dog(Animal):\n",
    "    def fetch(self , thing):\n",
    "        print('%s goes after the %s!' %(self.name , thing))\n",
    "\n",
    "class Cat(Animal):\n",
    "    def swatstring(self):\n",
    "        print('%s shreds the string!' %(self.name))\n",
    "\n",
    "# A = Animal('Animal')\n",
    "d = Dog('Ranger' , 23)\n",
    "c = Cat('MeOw' , 23)\n",
    "\n",
    "d.fetch('ball')\n",
    "c.swatstring()\n",
    "d.eat('Dog')\n",
    "c.eat('Cat Food')\n",
    "# d.swatstring()"
   ]
  },
  {
   "cell_type": "code",
   "execution_count": null,
   "id": "7034c7f3",
   "metadata": {},
   "outputs": [],
   "source": []
  }
 ],
 "metadata": {
  "kernelspec": {
   "display_name": "Python 3 (ipykernel)",
   "language": "python",
   "name": "python3"
  },
  "language_info": {
   "codemirror_mode": {
    "name": "ipython",
    "version": 3
   },
   "file_extension": ".py",
   "mimetype": "text/x-python",
   "name": "python",
   "nbconvert_exporter": "python",
   "pygments_lexer": "ipython3",
   "version": "3.9.12"
  }
 },
 "nbformat": 4,
 "nbformat_minor": 5
}

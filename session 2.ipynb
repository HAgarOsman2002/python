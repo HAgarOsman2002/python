{
 "cells": [
  {
   "cell_type": "code",
   "execution_count": 1,
   "id": "8af1ef4c",
   "metadata": {},
   "outputs": [
    {
     "data": {
      "text/plain": [
       "False"
      ]
     },
     "execution_count": 1,
     "metadata": {},
     "output_type": "execute_result"
    }
   ],
   "source": [
    "x = 11\n",
    "y = 12\n",
    "x>y"
   ]
  },
  {
   "cell_type": "code",
   "execution_count": 2,
   "id": "8ec95d55",
   "metadata": {},
   "outputs": [
    {
     "name": "stdout",
     "output_type": "stream",
     "text": [
      "5.25\n"
     ]
    }
   ],
   "source": [
    "x =20\n",
    "y = 5\n",
    "result = (x + True) / (4-y * False)\n",
    "print(result)"
   ]
  },
  {
   "cell_type": "code",
   "execution_count": 4,
   "id": "c389f1fc",
   "metadata": {},
   "outputs": [
    {
     "name": "stdout",
     "output_type": "stream",
     "text": [
      "1.9920979817708333e+20\n"
     ]
    }
   ],
   "source": [
    "g = 6.67 * 10**-11\n",
    "M = 6.0 * 10**24\n",
    "m = 7.34 * 10**22\n",
    "r = 3.84 * 10**8\n",
    "f = g*M*m/r**2\n",
    "print(f)"
   ]
  },
  {
   "cell_type": "code",
   "execution_count": 7,
   "id": "ffecb096",
   "metadata": {},
   "outputs": [
    {
     "name": "stdout",
     "output_type": "stream",
     "text": [
      "Enter your grad :80\n",
      "Good\n"
     ]
    }
   ],
   "source": [
    "x = float( input (\"Enter your grad :\"))\n",
    "if x == 100:\n",
    "    print(\"Ex\")\n",
    "elif x >= 90:\n",
    "    print(\"V.G\")\n",
    "elif x >= 80 :\n",
    "    print(\"Good\")\n",
    "else:\n",
    "    print(\"LOSER\")\n"
   ]
  },
  {
   "cell_type": "code",
   "execution_count": 9,
   "id": "5f5edcd8",
   "metadata": {},
   "outputs": [
    {
     "data": {
      "text/plain": [
       "[1, 2, 3, 4, 5, 6, 10]"
      ]
     },
     "execution_count": 9,
     "metadata": {},
     "output_type": "execute_result"
    }
   ],
   "source": [
    "list = [1,2,3,4,5,6]\n",
    "list. append(10)\n",
    "list"
   ]
  },
  {
   "cell_type": "code",
   "execution_count": 11,
   "id": "26be3a77",
   "metadata": {},
   "outputs": [
    {
     "data": {
      "text/plain": [
       "[10, 10, 1, 2, 3, 4, 5, 6, 10]"
      ]
     },
     "execution_count": 11,
     "metadata": {},
     "output_type": "execute_result"
    }
   ],
   "source": [
    "list.insert(0,10)\n",
    "list"
   ]
  },
  {
   "cell_type": "code",
   "execution_count": 12,
   "id": "24a9bda8",
   "metadata": {},
   "outputs": [
    {
     "data": {
      "text/plain": [
       "[10, 2, 3, 4, 5, 6]"
      ]
     },
     "execution_count": 12,
     "metadata": {},
     "output_type": "execute_result"
    }
   ],
   "source": [
    "# to remove number from the list\n",
    "list . pop(0)\n",
    "list . pop(-1)\n",
    "list . pop(1)\n",
    "list"
   ]
  },
  {
   "cell_type": "code",
   "execution_count": 13,
   "id": "35b49c44",
   "metadata": {},
   "outputs": [
    {
     "data": {
      "text/plain": [
       "[1, 2, 3, 4, 5, 6]"
      ]
     },
     "execution_count": 13,
     "metadata": {},
     "output_type": "execute_result"
    }
   ],
   "source": [
    "# to replace number in list\n",
    "list[0] = 1\n",
    "list\n"
   ]
  },
  {
   "cell_type": "code",
   "execution_count": 14,
   "id": "ac769c3e",
   "metadata": {},
   "outputs": [
    {
     "data": {
      "text/plain": [
       "[1, 2, 3, 4, 5, 7, 6]"
      ]
     },
     "execution_count": 14,
     "metadata": {},
     "output_type": "execute_result"
    }
   ],
   "source": [
    "# to add number in the list\n",
    "list. insert (-1, 7)\n",
    "list"
   ]
  },
  {
   "cell_type": "code",
   "execution_count": 15,
   "id": "979bc116",
   "metadata": {},
   "outputs": [
    {
     "data": {
      "text/plain": [
       "[6, 7, 5, 4, 3, 2, 1]"
      ]
     },
     "execution_count": 15,
     "metadata": {},
     "output_type": "execute_result"
    }
   ],
   "source": [
    "#list [start : end : step] defult[0:0:1]\n",
    "list[::-1]"
   ]
  },
  {
   "cell_type": "code",
   "execution_count": 16,
   "id": "715c53d7",
   "metadata": {},
   "outputs": [
    {
     "data": {
      "text/plain": [
       "7"
      ]
     },
     "execution_count": 16,
     "metadata": {},
     "output_type": "execute_result"
    }
   ],
   "source": [
    "#to know the length of the list\n",
    "len(list)"
   ]
  },
  {
   "cell_type": "code",
   "execution_count": 17,
   "id": "5134e610",
   "metadata": {},
   "outputs": [
    {
     "data": {
      "text/plain": [
       "[1, 2, 3, 4, 5, 7, 6, [21, 22, 23]]"
      ]
     },
     "execution_count": 17,
     "metadata": {},
     "output_type": "execute_result"
    }
   ],
   "source": [
    "#to add list of numbers in the list\n",
    "list. extend([[21,22,23]])\n",
    "list"
   ]
  },
  {
   "cell_type": "code",
   "execution_count": 18,
   "id": "ccb984e3",
   "metadata": {},
   "outputs": [
    {
     "data": {
      "text/plain": [
       "22"
      ]
     },
     "execution_count": 18,
     "metadata": {},
     "output_type": "execute_result"
    }
   ],
   "source": [
    "# to call number in list in list\n",
    "list[-1][1]"
   ]
  },
  {
   "cell_type": "code",
   "execution_count": 19,
   "id": "c249a8b3",
   "metadata": {},
   "outputs": [],
   "source": [
    "list.remove(7)"
   ]
  },
  {
   "cell_type": "code",
   "execution_count": 23,
   "id": "f2307895",
   "metadata": {},
   "outputs": [],
   "source": [
    "# we use copy to can update in the new list without any change in the original list\n",
    "list1 = list.copy()"
   ]
  },
  {
   "cell_type": "code",
   "execution_count": 24,
   "id": "cc2627e8",
   "metadata": {},
   "outputs": [
    {
     "data": {
      "text/plain": [
       "[1, 2, 3, 4, 5, 6, [21, 22, 23]]"
      ]
     },
     "execution_count": 24,
     "metadata": {},
     "output_type": "execute_result"
    }
   ],
   "source": [
    "list1"
   ]
  },
  {
   "cell_type": "code",
   "execution_count": 28,
   "id": "a035dcf0",
   "metadata": {},
   "outputs": [
    {
     "ename": "NameError",
     "evalue": "name 'list1' is not defined",
     "output_type": "error",
     "traceback": [
      "\u001b[1;31m---------------------------------------------------------------------------\u001b[0m",
      "\u001b[1;31mNameError\u001b[0m                                 Traceback (most recent call last)",
      "Input \u001b[1;32mIn [28]\u001b[0m, in \u001b[0;36m<cell line: 1>\u001b[1;34m()\u001b[0m\n\u001b[1;32m----> 1\u001b[0m \u001b[38;5;28;01mdel\u001b[39;00m(list1)\n",
      "\u001b[1;31mNameError\u001b[0m: name 'list1' is not defined"
     ]
    }
   ],
   "source": [
    "del(list1)"
   ]
  },
  {
   "cell_type": "code",
   "execution_count": 18,
   "id": "093fdeaf",
   "metadata": {},
   "outputs": [
    {
     "name": "stdout",
     "output_type": "stream",
     "text": [
      "Enter the 1st number in the list: 2\n",
      "Enter the 2ed number in the list: 2\n",
      "Enter the 3rd number in the list: 3\n",
      "Enter the 4st number in the list: 4\n"
     ]
    },
    {
     "data": {
      "text/plain": [
       "[2, 2, 3, 4]"
      ]
     },
     "execution_count": 18,
     "metadata": {},
     "output_type": "execute_result"
    }
   ],
   "source": [
    "# take the numbers from the user and print\n",
    "x1 = int( input(\"Enter the 1st number in the list: \"))\n",
    "x2 = int( input(\"Enter the 2ed number in the list: \"))\n",
    "x3 = int( input(\"Enter the 3rd number in the list: \"))\n",
    "x4 = int( input(\"Enter the 4st number in the list: \"))\n",
    "lst = []\n",
    "lst.append(x1)\n",
    "lst.append(x2)\n",
    "lst.append(x3)\n",
    "lst.append(x4)\n",
    "lst"
   ]
  },
  {
   "cell_type": "code",
   "execution_count": 19,
   "id": "aa6d1ea6",
   "metadata": {},
   "outputs": [
    {
     "data": {
      "text/plain": [
       "2"
      ]
     },
     "execution_count": 19,
     "metadata": {},
     "output_type": "execute_result"
    }
   ],
   "source": [
    "lst.count(2)"
   ]
  },
  {
   "cell_type": "code",
   "execution_count": 8,
   "id": "51156541",
   "metadata": {},
   "outputs": [],
   "source": [
    "#split string\n",
    "name = \"Noure Mohamed Fawzy\"\n",
    "# to split every single name : name.split()\n",
    "#make name in list to can split every single name \n",
    "name = name.split()"
   ]
  },
  {
   "cell_type": "code",
   "execution_count": 9,
   "id": "8fbfc0d0",
   "metadata": {},
   "outputs": [
    {
     "data": {
      "text/plain": [
       "['N', 'o', 'u', 'r', 'e']"
      ]
     },
     "execution_count": 9,
     "metadata": {},
     "output_type": "execute_result"
    }
   ],
   "source": [
    "#the split every single chart\n",
    "list(name[0])"
   ]
  },
  {
   "cell_type": "code",
   "execution_count": 10,
   "id": "b75828ae",
   "metadata": {},
   "outputs": [
    {
     "data": {
      "text/plain": [
       "['Noure', 'Mohamed', 'Fawzy']"
      ]
     },
     "execution_count": 10,
     "metadata": {},
     "output_type": "execute_result"
    }
   ],
   "source": [
    "name"
   ]
  },
  {
   "cell_type": "code",
   "execution_count": 11,
   "id": "8762bf0c",
   "metadata": {},
   "outputs": [
    {
     "data": {
      "text/plain": [
       "'O'"
      ]
     },
     "execution_count": 11,
     "metadata": {},
     "output_type": "execute_result"
    }
   ],
   "source": [
    "name[0][1].upper()"
   ]
  },
  {
   "cell_type": "code",
   "execution_count": 12,
   "id": "be239bd9",
   "metadata": {},
   "outputs": [],
   "source": [
    "#list can contain multi types and can have updates\n",
    "lst1= [1,2.3,\"Noure\"]"
   ]
  },
  {
   "cell_type": "code",
   "execution_count": 21,
   "id": "645c0582",
   "metadata": {},
   "outputs": [
    {
     "data": {
      "text/plain": [
       "tuple"
      ]
     },
     "execution_count": 21,
     "metadata": {},
     "output_type": "execute_result"
    }
   ],
   "source": [
    "#Tuples: you cannot modify in item\n",
    "# can have different data type: t = Tuple(1,2.3,'N')\n",
    "# to changinr a tuple convert it to list\n",
    "# join 2 tuple together : t1+t2 = t3\n",
    "# multiply tuple: t*2\n",
    "# tuple must have >1 element: t=(1,..)\n",
    "t = (1,2,3,4)\n",
    "type(t)"
   ]
  },
  {
   "cell_type": "code",
   "execution_count": 22,
   "id": "2e3676c8",
   "metadata": {},
   "outputs": [
    {
     "data": {
      "text/plain": [
       "1"
      ]
     },
     "execution_count": 22,
     "metadata": {},
     "output_type": "execute_result"
    }
   ],
   "source": [
    "t.count(4)"
   ]
  },
  {
   "cell_type": "code",
   "execution_count": 25,
   "id": "8e48fc42",
   "metadata": {},
   "outputs": [
    {
     "data": {
      "text/plain": [
       "(1, 2, 3, 4, 5, 5, 5)"
      ]
     },
     "execution_count": 25,
     "metadata": {},
     "output_type": "execute_result"
    }
   ],
   "source": [
    "lst = [1,2,3,4,5,5,5]\n",
    "t = tuple(lst)\n",
    "t"
   ]
  },
  {
   "cell_type": "code",
   "execution_count": 26,
   "id": "07f18bd3",
   "metadata": {},
   "outputs": [
    {
     "data": {
      "text/plain": [
       "3"
      ]
     },
     "execution_count": 26,
     "metadata": {},
     "output_type": "execute_result"
    }
   ],
   "source": [
    "t.count(5)"
   ]
  },
  {
   "cell_type": "code",
   "execution_count": 27,
   "id": "d9de165b",
   "metadata": {},
   "outputs": [
    {
     "data": {
      "text/plain": [
       "1"
      ]
     },
     "execution_count": 27,
     "metadata": {},
     "output_type": "execute_result"
    }
   ],
   "source": [
    "t.index(2)"
   ]
  },
  {
   "cell_type": "code",
   "execution_count": 28,
   "id": "61264d6d",
   "metadata": {},
   "outputs": [
    {
     "data": {
      "text/plain": [
       "(1, 2, 3, 4, 5, 5, 5, 4)"
      ]
     },
     "execution_count": 28,
     "metadata": {},
     "output_type": "execute_result"
    }
   ],
   "source": [
    "# to add number in tuple \n",
    "t + (4,)"
   ]
  },
  {
   "cell_type": "code",
   "execution_count": 29,
   "id": "f5112cc8",
   "metadata": {},
   "outputs": [
    {
     "data": {
      "text/plain": [
       "{1, 2, 3, 4}"
      ]
     },
     "execution_count": 29,
     "metadata": {},
     "output_type": "execute_result"
    }
   ],
   "source": [
    "#Set{}: can obtain diffrents data types \n",
    "# can use add() , remove(), in ,  update(), extend()\n",
    "s = {1,2,3,3,4}\n",
    "s"
   ]
  },
  {
   "cell_type": "code",
   "execution_count": 1,
   "id": "0f26e09e",
   "metadata": {},
   "outputs": [],
   "source": [
    "A = {1,2,3}\n",
    "B = {3,4,5}\n",
    "u= A.union (B)"
   ]
  },
  {
   "cell_type": "code",
   "execution_count": 2,
   "id": "7f00a167",
   "metadata": {},
   "outputs": [
    {
     "data": {
      "text/plain": [
       "{3}"
      ]
     },
     "execution_count": 2,
     "metadata": {},
     "output_type": "execute_result"
    }
   ],
   "source": [
    "i = A.intersection(B)\n",
    "i"
   ]
  },
  {
   "cell_type": "code",
   "execution_count": 3,
   "id": "029345a1",
   "metadata": {},
   "outputs": [
    {
     "data": {
      "text/plain": [
       "{3}"
      ]
     },
     "execution_count": 3,
     "metadata": {},
     "output_type": "execute_result"
    }
   ],
   "source": [
    "A.intersection_update(B)\n",
    "A"
   ]
  },
  {
   "cell_type": "code",
   "execution_count": 5,
   "id": "f22da3cb",
   "metadata": {},
   "outputs": [
    {
     "data": {
      "text/plain": [
       "False"
      ]
     },
     "execution_count": 5,
     "metadata": {},
     "output_type": "execute_result"
    }
   ],
   "source": [
    "# to check the elements in the set \n",
    "1 in B\n"
   ]
  },
  {
   "cell_type": "code",
   "execution_count": 6,
   "id": "56bc83a7",
   "metadata": {},
   "outputs": [
    {
     "data": {
      "text/plain": [
       "{3, 4}"
      ]
     },
     "execution_count": 6,
     "metadata": {},
     "output_type": "execute_result"
    }
   ],
   "source": [
    "A.add(4)\n",
    "A"
   ]
  },
  {
   "cell_type": "code",
   "execution_count": 7,
   "id": "fff9c76c",
   "metadata": {},
   "outputs": [
    {
     "data": {
      "text/plain": [
       "{1, 2, 3, 4, 5, 6, 7, 8}"
      ]
     },
     "execution_count": 7,
     "metadata": {},
     "output_type": "execute_result"
    }
   ],
   "source": [
    "# convert \n",
    "lst = [1,2,3,4,5,5,5,7,3,2,6,7,7,8]\n",
    "set(lst)"
   ]
  },
  {
   "cell_type": "code",
   "execution_count": 13,
   "id": "fb9c8bc4",
   "metadata": {},
   "outputs": [
    {
     "data": {
      "text/plain": [
       "[2, 3, 4, 5, 5, 7, 3, 2, 6, 7, 7, 8]"
      ]
     },
     "execution_count": 13,
     "metadata": {},
     "output_type": "execute_result"
    }
   ],
   "source": [
    "# delete the number from the set \n",
    "lst.remove(5)\n",
    "lst"
   ]
  },
  {
   "cell_type": "code",
   "execution_count": null,
   "id": "5298f0b5",
   "metadata": {},
   "outputs": [],
   "source": [
    "'''\n",
    "all can contain different data type\n",
    "list [] ,index ,order ,changeable\n",
    "tuple() ,index ,order ,unchangeable\n",
    "set{} ,no index ,unorder bec set already sort the numbers ,changeable\n",
    "dict{key: value,..} ,key ,order ,changeable\n",
    "clear() copy() \n",
    "\n",
    "'''"
   ]
  },
  {
   "cell_type": "code",
   "execution_count": 46,
   "id": "eedd1b6e",
   "metadata": {},
   "outputs": [],
   "source": [
    "d = {\"k1\":\"value\",\n",
    "     \"k2\":[1,2,3,[2,3,4,5,[\"A\",\"B\",\"ABCD\"]]]}\n",
    "d[\"k2\"][-1][-1]=d[\"k2\"][-1][-1][-1][0:2]+ d[\"k2\"][-1][-1][-1][-2].lower() + d[\"k2\"][-1][-1][-1][-1]\n"
   ]
  },
  {
   "cell_type": "code",
   "execution_count": null,
   "id": "322147f4",
   "metadata": {},
   "outputs": [],
   "source": []
  }
 ],
 "metadata": {
  "kernelspec": {
   "display_name": "Python 3 (ipykernel)",
   "language": "python",
   "name": "python3"
  },
  "language_info": {
   "codemirror_mode": {
    "name": "ipython",
    "version": 3
   },
   "file_extension": ".py",
   "mimetype": "text/x-python",
   "name": "python",
   "nbconvert_exporter": "python",
   "pygments_lexer": "ipython3",
   "version": "3.9.12"
  }
 },
 "nbformat": 4,
 "nbformat_minor": 5
}

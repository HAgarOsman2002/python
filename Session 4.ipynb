{
 "cells": [
  {
   "cell_type": "code",
   "execution_count": 3,
   "id": "ef8971f6",
   "metadata": {},
   "outputs": [
    {
     "data": {
      "text/plain": [
       "{10, 26, 41, 54}"
      ]
     },
     "execution_count": 3,
     "metadata": {},
     "output_type": "execute_result"
    }
   ],
   "source": [
    "\n",
    "def Remove(sets):\n",
    "\tsets.discard(20)\n",
    "\treturn sets\n",
    "\t\n",
    "# Driver Code\n",
    "sets = set([10, 20, 26, 41, 54, 20])\n",
    "Remove(sets)\n"
   ]
  },
  {
   "cell_type": "code",
   "execution_count": 4,
   "id": "a9a13a8d",
   "metadata": {},
   "outputs": [
    {
     "data": {
      "text/plain": [
       "{10, 26, 41, 54}"
      ]
     },
     "execution_count": 4,
     "metadata": {},
     "output_type": "execute_result"
    }
   ],
   "source": [
    "sets"
   ]
  },
  {
   "cell_type": "code",
   "execution_count": 5,
   "id": "a25755b1",
   "metadata": {},
   "outputs": [
    {
     "name": "stdout",
     "output_type": "stream",
     "text": [
      "{41, 10, 54, 26}\n"
     ]
    }
   ],
   "source": [
    "print(sets)"
   ]
  },
  {
   "cell_type": "code",
   "execution_count": 6,
   "id": "c438d942",
   "metadata": {},
   "outputs": [
    {
     "data": {
      "text/plain": [
       "{10, 26, 41, 54}"
      ]
     },
     "execution_count": 6,
     "metadata": {},
     "output_type": "execute_result"
    }
   ],
   "source": [
    "sets"
   ]
  },
  {
   "cell_type": "code",
   "execution_count": 6,
   "id": "c8cadff9",
   "metadata": {},
   "outputs": [
    {
     "name": "stdout",
     "output_type": "stream",
     "text": [
      "Enter string : lal\n",
      "the inverse is :  lal\n",
      "T\n"
     ]
    }
   ],
   "source": [
    "###########session 4 :\n",
    "\n",
    "x = str(input (\"Enter string : \"))\n",
    "def inv(y):\n",
    "    invy = y[::-1]\n",
    "    print(\"the inverse is : \",invy)\n",
    "    if y == invy:\n",
    "        print(\"T\")\n",
    "inv(x)"
   ]
  },
  {
   "cell_type": "code",
   "execution_count": 3,
   "id": "06f30840",
   "metadata": {},
   "outputs": [
    {
     "name": "stdout",
     "output_type": "stream",
     "text": [
      "how many strings you will enter : 3\n",
      " enter the strings : asd\n",
      " enter the strings : asdf\n",
      " enter the strings : asdfg\n",
      "[3, 4, 5]\n",
      "asdfg\n"
     ]
    }
   ],
   "source": [
    "def maxy(l):\n",
    "    le = []\n",
    "    for i in l:\n",
    "        le.append(len(i))\n",
    "        \n",
    "    print(le)\n",
    "    print(l[le.index(max(le))])\n",
    "\n",
    "    \n",
    "x =  int (input(\"how many strings you will enter : \"))\n",
    "lst = []\n",
    "for i in range(x):\n",
    "    l =  str (input(\" enter the strings : \"))\n",
    "    lst.append(l)\n",
    "\n",
    "#print(max(lst))\n",
    "#print(min(lst))\n",
    "maxy(lst)\n"
   ]
  },
  {
   "cell_type": "code",
   "execution_count": 12,
   "id": "053c8d45",
   "metadata": {},
   "outputs": [
    {
     "name": "stdout",
     "output_type": "stream",
     "text": [
      "AMITLearning\n"
     ]
    }
   ],
   "source": [
    "word = \"AMIT&-Learning!\"\n",
    "def checky(w):\n",
    "    s =\"\"\n",
    "    illegal_chars = \"0123456789!@#$%^&*()-+=[]{}|\\\\;:'\\\",.<>/?`~ \"\n",
    "    for i in w:\n",
    "        if i in illegal_chars:\n",
    "            s += \"\"\n",
    "        else:\n",
    "            s +=i\n",
    "    print (s)\n",
    "checky(word)"
   ]
  },
  {
   "cell_type": "code",
   "execution_count": 2,
   "id": "ae89b68c",
   "metadata": {},
   "outputs": [
    {
     "name": "stdout",
     "output_type": "stream",
     "text": [
      "not found\n"
     ]
    }
   ],
   "source": [
    "t = (1,2,3,4)\n",
    "try:\n",
    "    t.index(5)\n",
    "except:\n",
    "    # except = if\n",
    "    print(\"not found\")\n",
    "else:\n",
    "    #if try true, else will be true\n",
    "    print(\"t\")"
   ]
  },
  {
   "cell_type": "code",
   "execution_count": 3,
   "id": "91e90298",
   "metadata": {},
   "outputs": [
    {
     "name": "stdout",
     "output_type": "stream",
     "text": [
      "0\n",
      "t\n"
     ]
    }
   ],
   "source": [
    "t = (1,2,3,4)\n",
    "try:\n",
    "    print(t.index(1))\n",
    "except:\n",
    "    # except = if\n",
    "    print(\"not found\")\n",
    "else:\n",
    "    #if try true, else will be true\n",
    "    print(\"t\")"
   ]
  },
  {
   "cell_type": "code",
   "execution_count": 5,
   "id": "dd990ffd",
   "metadata": {},
   "outputs": [
    {
     "name": "stdout",
     "output_type": "stream",
     "text": [
      "not found\n",
      "good\n"
     ]
    }
   ],
   "source": [
    "t = (1,2,3,4)\n",
    "try:\n",
    "    print(t.index(7))\n",
    "except:\n",
    "    # except = if the action you do if try = error\n",
    "    print(\"not found\")\n",
    "else:\n",
    "    #if try true, else will be true\n",
    "    print(\"t\")\n",
    "finally:\n",
    "    #finally will run everytime\n",
    "    print(\"good\")"
   ]
  },
  {
   "cell_type": "code",
   "execution_count": 6,
   "id": "3224a844",
   "metadata": {},
   "outputs": [],
   "source": [
    "#def add(n1, n2):\n",
    "#    return n1 + n2\n"
   ]
  },
  {
   "cell_type": "code",
   "execution_count": 8,
   "id": "2033a2fb",
   "metadata": {},
   "outputs": [],
   "source": [
    "add = lambda n1, n2: n1 + n2"
   ]
  },
  {
   "cell_type": "code",
   "execution_count": 9,
   "id": "c32c5511",
   "metadata": {},
   "outputs": [
    {
     "data": {
      "text/plain": [
       "30"
      ]
     },
     "execution_count": 9,
     "metadata": {},
     "output_type": "execute_result"
    }
   ],
   "source": [
    "add(10, 20)"
   ]
  },
  {
   "cell_type": "code",
   "execution_count": 10,
   "id": "cebe9883",
   "metadata": {},
   "outputs": [
    {
     "name": "stdout",
     "output_type": "stream",
     "text": [
      "[2, 4, 6, 8, 10]\n"
     ]
    }
   ],
   "source": [
    "#filter (function: lambda , seq)\n",
    "my_list = [1,2,3,4,5,6,7,8,9,10]\n",
    "new = list(filter (lambda x: (x%2 == 0), my_list))\n",
    "print (new)"
   ]
  },
  {
   "cell_type": "code",
   "execution_count": 12,
   "id": "e56796d7",
   "metadata": {},
   "outputs": [
    {
     "data": {
      "text/plain": [
       "[1, 4, 27, 256]"
      ]
     },
     "execution_count": 12,
     "metadata": {},
     "output_type": "execute_result"
    }
   ],
   "source": [
    "lst = [1,2,3,4]\n",
    "#بيمشي بالعكس هيبدا ب for loop \n",
    "[i**i for i in lst]"
   ]
  },
  {
   "cell_type": "code",
   "execution_count": 13,
   "id": "697a814f",
   "metadata": {},
   "outputs": [
    {
     "name": "stdout",
     "output_type": "stream",
     "text": [
      "1\n",
      "2\n",
      "3\n",
      "4\n",
      "5\n",
      "6\n",
      "7\n",
      "8\n",
      "9\n"
     ]
    }
   ],
   "source": [
    "lst = [[1,2,3],[4,5,6],[7,8,9]]\n",
    "for i in lst:\n",
    "    for j in i:\n",
    "        print (j)"
   ]
  },
  {
   "cell_type": "code",
   "execution_count": 14,
   "id": "fe1327ae",
   "metadata": {},
   "outputs": [
    {
     "name": "stdout",
     "output_type": "stream",
     "text": [
      "6\n"
     ]
    }
   ],
   "source": [
    "order = lambda x, function1: x + function1(x)\n",
    "print(order(2, lambda x: x*x))"
   ]
  },
  {
   "cell_type": "code",
   "execution_count": 18,
   "id": "25978d23",
   "metadata": {},
   "outputs": [],
   "source": [
    "f = open (\"text.txt\", 'w')"
   ]
  },
  {
   "cell_type": "code",
   "execution_count": 19,
   "id": "8636ed48",
   "metadata": {},
   "outputs": [
    {
     "data": {
      "text/plain": [
       "48"
      ]
     },
     "execution_count": 19,
     "metadata": {},
     "output_type": "execute_result"
    }
   ],
   "source": [
    "f.write (\"My name is Noure Mohamed Fawzy and my age is 22y\")"
   ]
  },
  {
   "cell_type": "code",
   "execution_count": 20,
   "id": "7ac45721",
   "metadata": {},
   "outputs": [],
   "source": [
    "f. close()"
   ]
  },
  {
   "cell_type": "code",
   "execution_count": 21,
   "id": "4acdad70",
   "metadata": {},
   "outputs": [
    {
     "data": {
      "text/plain": [
       "'My name is Noure Mohamed Fawzy and my age is 22y'"
      ]
     },
     "execution_count": 21,
     "metadata": {},
     "output_type": "execute_result"
    }
   ],
   "source": [
    "f = open (\"text.txt\", \"r\")\n",
    "f.read()"
   ]
  },
  {
   "cell_type": "code",
   "execution_count": 22,
   "id": "9c37b3c2",
   "metadata": {},
   "outputs": [],
   "source": [
    "# to open and creat a new file \n",
    "f = open (\"text2.txt\", \"a\")"
   ]
  },
  {
   "cell_type": "code",
   "execution_count": 23,
   "id": "d8ccd241",
   "metadata": {},
   "outputs": [
    {
     "data": {
      "text/plain": [
       "62"
      ]
     },
     "execution_count": 23,
     "metadata": {},
     "output_type": "execute_result"
    }
   ],
   "source": [
    "f.write (\"that is a new file men no3 text created by useing \\\"a\\\" comman  \")"
   ]
  },
  {
   "cell_type": "code",
   "execution_count": 20,
   "id": "49713d2a",
   "metadata": {},
   "outputs": [],
   "source": [
    "f. close()"
   ]
  },
  {
   "cell_type": "code",
   "execution_count": 3,
   "id": "5e62e755",
   "metadata": {},
   "outputs": [
    {
     "data": {
      "text/plain": [
       "'that is a new file men no3 text created by useing \"a\" comman  '"
      ]
     },
     "execution_count": 3,
     "metadata": {},
     "output_type": "execute_result"
    }
   ],
   "source": [
    "f = open (\"text2.txt\", 'r')\n",
    "f.read()"
   ]
  },
  {
   "cell_type": "code",
   "execution_count": 4,
   "id": "1e479a26",
   "metadata": {},
   "outputs": [],
   "source": [
    "#a بيكمل علي بقيت الكتابه القديمه\n",
    "#w بيمسح و بيعمل من اول وجديد"
   ]
  },
  {
   "cell_type": "code",
   "execution_count": 17,
   "id": "fdd06159",
   "metadata": {},
   "outputs": [],
   "source": [
    "f = open(\"task.txt\",\"w\")"
   ]
  },
  {
   "cell_type": "code",
   "execution_count": 5,
   "id": "5f95f360",
   "metadata": {},
   "outputs": [],
   "source": [
    "with open (\"task.txt\",\"w\", encoding = \"utf-8\") as f:\n",
    "    f.write (\"Q1: Write a Python program to read a file line by line and store it into alist\\n\")\n",
    "    f.write (\"Q2: line 2\\n\")\n",
    "    f.write (\"Q3: line 3\\n\")\n",
    "    f.write (\"Q4:line 4\\n\")\n",
    "    f.close()"
   ]
  },
  {
   "cell_type": "code",
   "execution_count": 6,
   "id": "52b93a27",
   "metadata": {},
   "outputs": [
    {
     "name": "stdout",
     "output_type": "stream",
     "text": [
      "['Q1: Write a Python program to read a file line by line and store it into alist', 'Q2: line 2', 'Q3: line 3', 'Q4:line 4']\n"
     ]
    }
   ],
   "source": [
    "    with open (\"task.txt\",\"r\", encoding = \"utf-8\") as f:\n",
    "        lst =f.readlines()\n",
    "        for i in range(len(lst)):\n",
    "            lst[i]=lst[i].strip()\n",
    "        print (lst)"
   ]
  },
  {
   "cell_type": "code",
   "execution_count": 29,
   "id": "f72079bb",
   "metadata": {},
   "outputs": [
    {
     "data": {
      "text/plain": [
       "'nour \\n'"
      ]
     },
     "execution_count": 29,
     "metadata": {},
     "output_type": "execute_result"
    }
   ],
   "source": [
    "x = \"nour \\n\"\n",
    "x"
   ]
  },
  {
   "cell_type": "code",
   "execution_count": 30,
   "id": "29209fc7",
   "metadata": {},
   "outputs": [
    {
     "data": {
      "text/plain": [
       "'nour'"
      ]
     },
     "execution_count": 30,
     "metadata": {},
     "output_type": "execute_result"
    }
   ],
   "source": [
    "# remove space in the end or in the start and remove \\n , \\t\n",
    "x.strip()"
   ]
  },
  {
   "cell_type": "code",
   "execution_count": 8,
   "id": "57d1d7f8",
   "metadata": {},
   "outputs": [],
   "source": [
    "import test"
   ]
  },
  {
   "cell_type": "code",
   "execution_count": 9,
   "id": "3a69e279",
   "metadata": {},
   "outputs": [
    {
     "data": {
      "text/plain": [
       "6"
      ]
     },
     "execution_count": 9,
     "metadata": {},
     "output_type": "execute_result"
    }
   ],
   "source": [
    "test.add(1,2,3)"
   ]
  },
  {
   "cell_type": "code",
   "execution_count": 10,
   "id": "6287afb1",
   "metadata": {},
   "outputs": [
    {
     "data": {
      "text/plain": [
       "6"
      ]
     },
     "execution_count": 10,
     "metadata": {},
     "output_type": "execute_result"
    }
   ],
   "source": [
    "test.multp(1,2,3)"
   ]
  },
  {
   "cell_type": "code",
   "execution_count": 11,
   "id": "a7c46fe5",
   "metadata": {},
   "outputs": [],
   "source": [
    "# shortcut test to t\n",
    "import test as t\n",
    "# * refer to all functions \"the whole code\" from the test without recall test\n",
    "from test import *\n"
   ]
  },
  {
   "cell_type": "code",
   "execution_count": 16,
   "id": "0b0e43a6",
   "metadata": {},
   "outputs": [
    {
     "data": {
      "text/plain": [
       "['BPF',\n",
       " 'LOG4',\n",
       " 'NV_MAGICCONST',\n",
       " 'RECIP_BPF',\n",
       " 'Random',\n",
       " 'SG_MAGICCONST',\n",
       " 'SystemRandom',\n",
       " 'TWOPI',\n",
       " '_Sequence',\n",
       " '_Set',\n",
       " '__all__',\n",
       " '__builtins__',\n",
       " '__cached__',\n",
       " '__doc__',\n",
       " '__file__',\n",
       " '__loader__',\n",
       " '__name__',\n",
       " '__package__',\n",
       " '__spec__',\n",
       " '_accumulate',\n",
       " '_acos',\n",
       " '_bisect',\n",
       " '_ceil',\n",
       " '_cos',\n",
       " '_e',\n",
       " '_exp',\n",
       " '_floor',\n",
       " '_inst',\n",
       " '_log',\n",
       " '_os',\n",
       " '_pi',\n",
       " '_random',\n",
       " '_repeat',\n",
       " '_sha512',\n",
       " '_sin',\n",
       " '_sqrt',\n",
       " '_test',\n",
       " '_test_generator',\n",
       " '_urandom',\n",
       " '_warn',\n",
       " 'betavariate',\n",
       " 'choice',\n",
       " 'choices',\n",
       " 'expovariate',\n",
       " 'gammavariate',\n",
       " 'gauss',\n",
       " 'getrandbits',\n",
       " 'getstate',\n",
       " 'lognormvariate',\n",
       " 'normalvariate',\n",
       " 'paretovariate',\n",
       " 'randbytes',\n",
       " 'randint',\n",
       " 'random',\n",
       " 'randrange',\n",
       " 'sample',\n",
       " 'seed',\n",
       " 'setstate',\n",
       " 'shuffle',\n",
       " 'triangular',\n",
       " 'uniform',\n",
       " 'vonmisesvariate',\n",
       " 'weibullvariate']"
      ]
     },
     "execution_count": 16,
     "metadata": {},
     "output_type": "execute_result"
    }
   ],
   "source": [
    "import random as rd\n",
    "# return all function in the module\n",
    "dir(nd)"
   ]
  },
  {
   "cell_type": "code",
   "execution_count": 15,
   "id": "40275bc5",
   "metadata": {},
   "outputs": [
    {
     "name": "stdout",
     "output_type": "stream",
     "text": [
      "Help on built-in function random:\n",
      "\n",
      "random() method of random.Random instance\n",
      "    random() -> x in the interval [0, 1).\n",
      "\n"
     ]
    }
   ],
   "source": [
    "help (rd.random)"
   ]
  },
  {
   "cell_type": "code",
   "execution_count": 18,
   "id": "009047e2",
   "metadata": {},
   "outputs": [
    {
     "data": {
      "text/plain": [
       "0.08826699454556575"
      ]
     },
     "execution_count": 18,
     "metadata": {},
     "output_type": "execute_result"
    }
   ],
   "source": [
    "rd.random()"
   ]
  },
  {
   "cell_type": "code",
   "execution_count": 23,
   "id": "ca6ccfdc",
   "metadata": {},
   "outputs": [
    {
     "data": {
      "text/plain": [
       "6"
      ]
     },
     "execution_count": 23,
     "metadata": {},
     "output_type": "execute_result"
    }
   ],
   "source": [
    "# [i,j>i] for randam number\n",
    "rd.randint(1,10)"
   ]
  },
  {
   "cell_type": "code",
   "execution_count": 24,
   "id": "8d719c52",
   "metadata": {},
   "outputs": [
    {
     "data": {
      "text/plain": [
       "2"
      ]
     },
     "execution_count": 24,
     "metadata": {},
     "output_type": "execute_result"
    }
   ],
   "source": [
    "# [i, j>i[ for randam number\n",
    "\n",
    "rd.randrange(1,10)"
   ]
  },
  {
   "cell_type": "code",
   "execution_count": 27,
   "id": "da6826d6",
   "metadata": {},
   "outputs": [
    {
     "data": {
      "text/plain": [
       "'mohamed'"
      ]
     },
     "execution_count": 27,
     "metadata": {},
     "output_type": "execute_result"
    }
   ],
   "source": [
    "rd.choice([\"Noure\", \"mohamed\", \"fawzy\"])"
   ]
  },
  {
   "cell_type": "code",
   "execution_count": 28,
   "id": "74650788",
   "metadata": {},
   "outputs": [
    {
     "data": {
      "text/plain": [
       "[5, 4, 6, 1, 8, 9, 2, 7, 3]"
      ]
     },
     "execution_count": 28,
     "metadata": {},
     "output_type": "execute_result"
    }
   ],
   "source": [
    "lst = [1,2,3,4,5,6,7,8,9]\n",
    "rd.shuffle(lst)\n",
    "lst"
   ]
  },
  {
   "cell_type": "code",
   "execution_count": 34,
   "id": "bf3ce9ff",
   "metadata": {},
   "outputs": [
    {
     "ename": "SyntaxError",
     "evalue": "invalid syntax (test1.py, line 8)",
     "output_type": "error",
     "traceback": [
      "Traceback \u001b[1;36m(most recent call last)\u001b[0m:\n",
      "  File \u001b[0;32m~\\anaconda3\\lib\\site-packages\\IPython\\core\\interactiveshell.py:3369\u001b[0m in \u001b[0;35mrun_code\u001b[0m\n    exec(code_obj, self.user_global_ns, self.user_ns)\n",
      "\u001b[1;36m  Input \u001b[1;32mIn [34]\u001b[1;36m in \u001b[1;35m<cell line: 1>\u001b[1;36m\u001b[0m\n\u001b[1;33m    import test1\u001b[0m\n",
      "\u001b[1;36m  File \u001b[1;32m~\\Desktop\\AI Course\\code\\test1.py:8\u001b[1;36m\u001b[0m\n\u001b[1;33m    return n1 + n2 +\u001b[0m\n\u001b[1;37m                    ^\u001b[0m\n\u001b[1;31mSyntaxError\u001b[0m\u001b[1;31m:\u001b[0m invalid syntax\n"
     ]
    }
   ],
   "source": [
    "import test1 \n",
    "test1.sub(1,2)"
   ]
  },
  {
   "cell_type": "code",
   "execution_count": 35,
   "id": "6b04c48b",
   "metadata": {},
   "outputs": [
    {
     "data": {
      "text/plain": [
       "6"
      ]
     },
     "execution_count": 35,
     "metadata": {},
     "output_type": "execute_result"
    }
   ],
   "source": [
    "def f(x):\n",
    "    if x == 1:\n",
    "        return 1\n",
    "    else:\n",
    "        return x * f(x-1)\n",
    "f(3)"
   ]
  },
  {
   "cell_type": "markdown",
   "id": "cb1514c2",
   "metadata": {},
   "source": [
    "### Ask the user to enter a command \"add\",\"sub\",\"mult\",\"div\" and two  numbers to simulate a calculator. All of your functions are in a separate script calc.py Your main code is in main.py\n"
   ]
  },
  {
   "cell_type": "code",
   "execution_count": 1,
   "id": "015959ea",
   "metadata": {},
   "outputs": [],
   "source": [
    "import Calculator as calc"
   ]
  },
  {
   "cell_type": "code",
   "execution_count": 2,
   "id": "941220bc",
   "metadata": {},
   "outputs": [
    {
     "data": {
      "text/plain": [
       "3"
      ]
     },
     "execution_count": 2,
     "metadata": {},
     "output_type": "execute_result"
    }
   ],
   "source": [
    "calc.add(1,2)"
   ]
  },
  {
   "cell_type": "code",
   "execution_count": 3,
   "id": "2919dc08",
   "metadata": {},
   "outputs": [
    {
     "data": {
      "text/plain": [
       "1"
      ]
     },
     "execution_count": 3,
     "metadata": {},
     "output_type": "execute_result"
    }
   ],
   "source": [
    "calc.sub(3,2)"
   ]
  },
  {
   "cell_type": "markdown",
   "id": "d2bb37a5",
   "metadata": {},
   "source": [
    "## Bonus: ask the user if he would like to make another operation or not. if yes, do it all over again in the same run. only exit the program if he says 'stop"
   ]
  },
  {
   "cell_type": "code",
   "execution_count": 4,
   "id": "302f3199",
   "metadata": {},
   "outputs": [
    {
     "name": "stdout",
     "output_type": "stream",
     "text": [
      "would like to make another operation \"yes or stop\" : yes\n",
      "What is the operation you want to make \"sum, sub, mult, div\" : mult\n",
      "frist Number : 5\n",
      "second Number : 6\n",
      "30.0\n",
      "would like to make another operation \"yes or stop\" : stop\n"
     ]
    }
   ],
   "source": [
    "# -------> TASK SESSION\n",
    "def calcu():\n",
    "    x = str (input (\"What is the operation you want to make \\\"sum, sub, mult, div\\\" : \"))\n",
    "    n1 = float (input (\"frist Number : \"))\n",
    "    n2 = float (input (\"second Number : \"))\n",
    "    if x == \"sum\":\n",
    "        print( calc.add(n1, n2))\n",
    "    elif x == \"sub\":\n",
    "        print (calc.sub(n1, n2))\n",
    "    elif x == \"mult\":\n",
    "        print (calc.mult(n1, n2))\n",
    "    elif x == \"div\":\n",
    "        print (calc.div(n1, n2))\n",
    "    \n",
    "ask = True \n",
    "def again():\n",
    "    while ask:\n",
    "        y = str (input (\"would like to make another operation \\\"yes or stop\\\" : \"))\n",
    "        if y == \"stop\":\n",
    "            break\n",
    "        else:\n",
    "            calcu()\n",
    "again() "
   ]
  },
  {
   "cell_type": "code",
   "execution_count": null,
   "id": "b7e63be8",
   "metadata": {},
   "outputs": [],
   "source": []
  }
 ],
 "metadata": {
  "kernelspec": {
   "display_name": "Python 3 (ipykernel)",
   "language": "python",
   "name": "python3"
  },
  "language_info": {
   "codemirror_mode": {
    "name": "ipython",
    "version": 3
   },
   "file_extension": ".py",
   "mimetype": "text/x-python",
   "name": "python",
   "nbconvert_exporter": "python",
   "pygments_lexer": "ipython3",
   "version": "3.9.12"
  }
 },
 "nbformat": 4,
 "nbformat_minor": 5
}

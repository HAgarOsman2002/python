{
 "cells": [
  {
   "cell_type": "code",
   "execution_count": 12,
   "id": "8cab0cff",
   "metadata": {},
   "outputs": [
    {
     "data": {
      "text/plain": [
       "'HELLO'"
      ]
     },
     "execution_count": 12,
     "metadata": {},
     "output_type": "execute_result"
    }
   ],
   "source": [
    "#Task\n",
    "d = {'k1':[1,2,{'k2':['this is tricky',{'ahmed':[1,2,['hello']]}]}]}\n",
    "\n",
    "d['k1'][2][\"k2\"][-1][\"ahmed\"][-1][0].upper()"
   ]
  },
  {
   "cell_type": "code",
   "execution_count": 20,
   "id": "846d0025",
   "metadata": {},
   "outputs": [
    {
     "name": "stdout",
     "output_type": "stream",
     "text": [
      "o\n"
     ]
    }
   ],
   "source": [
    "# Session 3\n",
    "# for loop:\n",
    "# i take value not idex\n",
    "lst = [1,2,3,4,5]\n",
    "s = 'Noure'\n",
    "for i in s:\n",
    "    if i == 'o':\n",
    "        print (i)"
   ]
  },
  {
   "cell_type": "code",
   "execution_count": 21,
   "id": "e214297f",
   "metadata": {},
   "outputs": [
    {
     "name": "stdout",
     "output_type": "stream",
     "text": [
      "0\n",
      "1\n",
      "2\n",
      "3\n",
      "4\n",
      "5\n",
      "6\n",
      "7\n",
      "8\n",
      "9\n"
     ]
    }
   ],
   "source": [
    "#range( start, end, step)\n",
    "for i in range(10):\n",
    "    print(i)"
   ]
  },
  {
   "cell_type": "code",
   "execution_count": 28,
   "id": "8e6cf5b2",
   "metadata": {},
   "outputs": [
    {
     "name": "stdout",
     "output_type": "stream",
     "text": [
      "1 odd\n",
      "2 Even\n",
      "3 odd\n",
      "4 Even\n",
      "5 odd\n",
      "6 Even\n",
      "7 odd\n",
      "8 Even\n",
      "9 odd\n",
      "10 Even\n",
      "11 odd\n",
      "12 Even\n",
      "13 odd\n",
      "14 Even\n",
      "15 odd\n",
      "16 Even\n",
      "17 odd\n",
      "18 Even\n",
      "19 odd\n",
      "20 Even\n"
     ]
    }
   ],
   "source": [
    "# Even and Odd numbers\n",
    "for i in range(1, 21):lst \n",
    "    if i %2 == 0:\n",
    "        print(i ,  \"Even\")\n",
    "    else:\n",
    "        print(i, \"odd\")"
   ]
  },
  {
   "cell_type": "code",
   "execution_count": 29,
   "id": "432d1c9b",
   "metadata": {},
   "outputs": [
    {
     "data": {
      "text/plain": [
       "[2, 4, 6]"
      ]
     },
     "execution_count": 29,
     "metadata": {},
     "output_type": "execute_result"
    }
   ],
   "source": [
    "lst = [1,2,3]\n",
    "lst2 = []\n",
    "for i in lst:\n",
    "    lst2.append(i *2)\n",
    "lst2"
   ]
  },
  {
   "cell_type": "code",
   "execution_count": 36,
   "id": "7a60fd85",
   "metadata": {},
   "outputs": [
    {
     "name": "stdout",
     "output_type": "stream",
     "text": [
      "0\n",
      "1\n",
      "2\n",
      "3\n",
      "4\n",
      "5\n",
      "6\n",
      "7\n",
      "8\n",
      "9\n",
      "10\n",
      "11\n",
      "12\n",
      "13\n",
      "14\n",
      "15\n",
      "16\n",
      "17\n",
      "18\n",
      "19\n",
      "20\n"
     ]
    }
   ],
   "source": [
    "# while loop: to itreate over a condition as long it's true\n",
    "i = 0\n",
    "while i <=20:\n",
    "    print (i)\n",
    "    i = i +1"
   ]
  },
  {
   "cell_type": "code",
   "execution_count": 37,
   "id": "5e0aeee6",
   "metadata": {},
   "outputs": [
    {
     "name": "stdout",
     "output_type": "stream",
     "text": [
      "1\n",
      "2\n",
      "4\n",
      "5\n"
     ]
    }
   ],
   "source": [
    "# continue: wil cut the loop and start the next iteration\n",
    "lst = [1,2,3,4,5]\n",
    "for i  in lst:\n",
    "    if i == 3:\n",
    "        continue\n",
    "    print (i)"
   ]
  },
  {
   "cell_type": "code",
   "execution_count": 38,
   "id": "4a9c8fa9",
   "metadata": {},
   "outputs": [
    {
     "name": "stdout",
     "output_type": "stream",
     "text": [
      "1\n",
      "2\n"
     ]
    }
   ],
   "source": [
    "# break: will cut the code and exit all iteration\n",
    "lst = [1,2,3,4,5]\n",
    "for i  in lst:\n",
    "    if i == 3:\n",
    "        break\n",
    "    print (i)"
   ]
  },
  {
   "cell_type": "code",
   "execution_count": 39,
   "id": "8f4ea179",
   "metadata": {},
   "outputs": [
    {
     "name": "stdout",
     "output_type": "stream",
     "text": [
      "1\n",
      "2\n",
      "3\n",
      "4\n",
      "5\n"
     ]
    }
   ],
   "source": [
    "# pass: skip that sentax for now \n",
    "lst = [1,2,3,4,5]\n",
    "for i  in lst:\n",
    "    if i == 3:\n",
    "        pass\n",
    "    print (i)"
   ]
  },
  {
   "cell_type": "code",
   "execution_count": 41,
   "id": "a6a59de2",
   "metadata": {},
   "outputs": [
    {
     "name": "stdout",
     "output_type": "stream",
     "text": [
      "1\n",
      "2\n",
      "Fizz\n",
      "4\n",
      "Buzz\n",
      "Fizz\n",
      "7\n",
      "8\n",
      "Fizz\n",
      "Buzz\n",
      "11\n",
      "Fizz\n",
      "13\n",
      "14\n",
      "FizzBuzz\n",
      "16\n",
      "17\n",
      "Fizz\n",
      "19\n",
      "Buzz\n",
      "Fizz\n",
      "22\n",
      "23\n",
      "Fizz\n",
      "Buzz\n",
      "26\n",
      "Fizz\n",
      "28\n",
      "29\n",
      "FizzBuzz\n",
      "31\n",
      "32\n",
      "Fizz\n",
      "34\n",
      "Buzz\n",
      "Fizz\n",
      "37\n",
      "38\n",
      "Fizz\n",
      "Buzz\n",
      "41\n",
      "Fizz\n",
      "43\n",
      "44\n",
      "FizzBuzz\n",
      "46\n",
      "47\n",
      "Fizz\n",
      "49\n",
      "Buzz\n",
      "Fizz\n",
      "52\n",
      "53\n",
      "Fizz\n",
      "Buzz\n",
      "56\n",
      "Fizz\n",
      "58\n",
      "59\n",
      "FizzBuzz\n",
      "61\n",
      "62\n",
      "Fizz\n",
      "64\n",
      "Buzz\n",
      "Fizz\n",
      "67\n",
      "68\n",
      "Fizz\n",
      "Buzz\n",
      "71\n",
      "Fizz\n",
      "73\n",
      "74\n",
      "FizzBuzz\n",
      "76\n",
      "77\n",
      "Fizz\n",
      "79\n",
      "Buzz\n",
      "Fizz\n",
      "82\n",
      "83\n",
      "Fizz\n",
      "Buzz\n",
      "86\n",
      "Fizz\n",
      "88\n",
      "89\n",
      "FizzBuzz\n",
      "91\n",
      "92\n",
      "Fizz\n",
      "94\n",
      "Buzz\n",
      "Fizz\n",
      "97\n",
      "98\n",
      "Fizz\n"
     ]
    }
   ],
   "source": [
    "for i in range(1, 100):\n",
    "    if i%3 == 0 and i%5 ==0:\n",
    "        print(\"FizzBuzz\")\n",
    "    elif i%3 == 0:\n",
    "        print(\"Fizz\")\n",
    "    elif i %5 == 0:\n",
    "        print(\"Buzz\")\n",
    "    else:\n",
    "        print(i)"
   ]
  },
  {
   "cell_type": "code",
   "execution_count": 43,
   "id": "8fa3522b",
   "metadata": {},
   "outputs": [
    {
     "name": "stdout",
     "output_type": "stream",
     "text": [
      "Enter two words: Nour Nour\n",
      "True\n"
     ]
    }
   ],
   "source": [
    "#word1 =  str( input(\"Enter word one\"))\n",
    "#word2 =  str( input(\"Enter word two\"))\n",
    "words =  str( input(\"Enter two words: \"))\n",
    "words = words.split()\n",
    "if words[0][0] == words[1][0]:\n",
    "    print (\"True\")\n",
    "else:\n",
    "    print(\"False\")"
   ]
  },
  {
   "cell_type": "code",
   "execution_count": 45,
   "id": "ded2f060",
   "metadata": {},
   "outputs": [
    {
     "name": "stdout",
     "output_type": "stream",
     "text": [
      "Enter word one: Nour\n",
      "Enter word two: nour\n",
      "False\n"
     ]
    }
   ],
   "source": [
    "word1 =  str( input(\"Enter word one: \"))\n",
    "word2 =  str( input(\"Enter word two: \"))\n",
    "if word1[0] == word2[0]:\n",
    "    print (\"True\")\n",
    "else:\n",
    "    print(\"False\")"
   ]
  },
  {
   "cell_type": "code",
   "execution_count": 49,
   "id": "b1d228d1",
   "metadata": {},
   "outputs": [
    {
     "name": "stdout",
     "output_type": "stream",
     "text": [
      "Enter 1st number : 5\n",
      "Enter 2nd number : 6\n"
     ]
    },
    {
     "data": {
      "text/plain": [
       "11"
      ]
     },
     "execution_count": 49,
     "metadata": {},
     "output_type": "execute_result"
    }
   ],
   "source": [
    "# Functions: a block of code that is used more than once\n",
    "'''def fun_name (arguments):\n",
    "        statement\n",
    "        return value\n",
    "call the function by fun_name(argument)\n",
    "''' \n",
    "def sum (x, y):\n",
    "    return x+y\n",
    "x= int(input (\"Enter 1st number : \"))\n",
    "y= int(input (\"Enter 2nd number : \"))\n",
    "sum(x,y)"
   ]
  },
  {
   "cell_type": "code",
   "execution_count": 53,
   "id": "2e9eb775",
   "metadata": {},
   "outputs": [
    {
     "data": {
      "text/plain": [
       "15"
      ]
     },
     "execution_count": 53,
     "metadata": {},
     "output_type": "execute_result"
    }
   ],
   "source": [
    "lst = [1,2,3,4,5]\n",
    "def sum_list (l):\n",
    "    sum_num = 0\n",
    "    for i in l:\n",
    "        sum_num +=i\n",
    "    return sum_num\n",
    "sum_list(lst)"
   ]
  },
  {
   "cell_type": "code",
   "execution_count": 56,
   "id": "f53e7f3d",
   "metadata": {},
   "outputs": [
    {
     "name": "stdout",
     "output_type": "stream",
     "text": [
      "Enter the number of input : 5\n",
      "Enter your numbers : 1\n",
      "Enter your numbers : 2\n",
      "Enter your numbers : 3\n",
      "Enter your numbers : 4\n",
      "Enter your numbers : 5\n"
     ]
    },
    {
     "data": {
      "text/plain": [
       "15"
      ]
     },
     "execution_count": 56,
     "metadata": {},
     "output_type": "execute_result"
    }
   ],
   "source": [
    "def sum_list (l):\n",
    "    sum_num = 0\n",
    "    for i in l:\n",
    "        sum_num +=i\n",
    "    return sum_num\n",
    "num_of_input = int (input (\"Enter the number of input : \"))\n",
    "nums = []\n",
    "for j in range (num_of_input):\n",
    "    nums.append (int (input (\"Enter your numbers : \")))\n",
    "sum_list(nums)"
   ]
  },
  {
   "cell_type": "code",
   "execution_count": 57,
   "id": "eb080a73",
   "metadata": {},
   "outputs": [
    {
     "data": {
      "text/plain": [
       "15"
      ]
     },
     "execution_count": 57,
     "metadata": {},
     "output_type": "execute_result"
    }
   ],
   "source": [
    "def sum_list (*l):\n",
    "    sum_num = 0\n",
    "    for i in l:\n",
    "        sum_num +=i\n",
    "    return sum_num\n",
    "sum_list(1,2,3,4,5)"
   ]
  },
  {
   "cell_type": "code",
   "execution_count": 58,
   "id": "de7f928c",
   "metadata": {},
   "outputs": [
    {
     "name": "stdout",
     "output_type": "stream",
     "text": [
      "g\n",
      "l\n",
      "g\n"
     ]
    }
   ],
   "source": [
    "#Global x\n",
    "x = 'g'\n",
    "\n",
    "def say():\n",
    "    #local x\n",
    "    x = 'l'\n",
    "    print (x)\n",
    "print(x)\n",
    "say()\n",
    "print(x)"
   ]
  },
  {
   "cell_type": "code",
   "execution_count": 59,
   "id": "29428255",
   "metadata": {},
   "outputs": [
    {
     "name": "stdout",
     "output_type": "stream",
     "text": [
      "g\n",
      "l\n",
      "l\n"
     ]
    }
   ],
   "source": [
    "#Global x\n",
    "x = 'g'\n",
    "\n",
    "def say():\n",
    "    global x\n",
    "    x = 'l'\n",
    "    print (x)\n",
    "print(x)\n",
    "say()\n",
    "print(x)"
   ]
  },
  {
   "cell_type": "code",
   "execution_count": 60,
   "id": "6c58ce12",
   "metadata": {},
   "outputs": [],
   "source": [
    "# nonlocal effect in the scpe before not like gloda \n",
    "#gloda effect in all code and all can see "
   ]
  },
  {
   "cell_type": "code",
   "execution_count": null,
   "id": "4d24540e",
   "metadata": {},
   "outputs": [],
   "source": []
  }
 ],
 "metadata": {
  "kernelspec": {
   "display_name": "Python 3 (ipykernel)",
   "language": "python",
   "name": "python3"
  },
  "language_info": {
   "codemirror_mode": {
    "name": "ipython",
    "version": 3
   },
   "file_extension": ".py",
   "mimetype": "text/x-python",
   "name": "python",
   "nbconvert_exporter": "python",
   "pygments_lexer": "ipython3",
   "version": "3.11.5"
  }
 },
 "nbformat": 4,
 "nbformat_minor": 5
}
